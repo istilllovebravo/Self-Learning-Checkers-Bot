{
 "cells": [
  {
   "cell_type": "markdown",
   "metadata": {},
   "source": [
    "  #                     Applying Machine Learning on Checkers\n",
    "##                       (using Least-Mean-Square rule for Weight-update)"
   ]
  },
  {
   "cell_type": "code",
   "execution_count": 1,
   "metadata": {},
   "outputs": [],
   "source": [
    "import numpy as np\n",
    "import random\n",
    "import copy"
   ]
  },
  {
   "cell_type": "markdown",
   "metadata": {},
   "source": [
    "    Features used to evaulate a move are - \n",
    "    1. Number of white pawns\n",
    "    2. Number of white kings\n",
    "    3. Number of black pawns\n",
    "    4. Number of black kings\n",
    "    5. Number of white pieces threatened\n",
    "    6. Number of black pieces threatened\n"
   ]
  },
  {
   "cell_type": "markdown",
   "metadata": {},
   "source": [
    "    Setting up the Design for the representing Checkers (8*8)\n",
    "\n",
    "    1. Board represents the 8*8 grid where the game is played  \n",
    "    2. 'b'  = Black Pawn , 'B' = Black King , 'w'  = White pawn , 'W' = White king\n",
    "    3. Declare the required variables globally for ease of access\n",
    "    4. Deltas represent the directions in which a piece of a given color can move"
   ]
  },
  {
   "cell_type": "code",
   "execution_count": 2,
   "metadata": {},
   "outputs": [],
   "source": [
    "n_rows = 8\n",
    "n_columns = 8\n",
    "n_cells = n_rows * n_columns\n",
    "n_pieces = 0\n",
    "n_white_pawns = 0\n",
    "n_white_kings = 0\n",
    "n_black_pawns = 0\n",
    "n_black_kings = 0\n",
    "n_white_threatened = 0\n",
    "n_black_threatened = 0\n",
    "winner  = ''\n",
    "board = np.chararray((n_rows+1 , n_columns+1))\n",
    "weight = np.random.rand(7)\n",
    "\n",
    "deltaX = {  'w': [1,1],\n",
    "            'W': [-1,-1,1,1],\n",
    "            'b': [-1,-1],\n",
    "            'B': [-1,-1,1,1]\n",
    "         }\n",
    "deltaY = {  'w': [-1,1],\n",
    "            'W': [-1,1,1,-1],\n",
    "            'b': [-1,1],\n",
    "            'B': [-1,1,1,-1],\n",
    "         }\n",
    "# It is a list of target-values(i.e. Board value after move i) for all moves made by us \n",
    "targetValue = []\n",
    "moveList = []\n",
    "X = {}    # X stores the StateVector for each bestMove made by us\n",
    "\n",
    "wcount = 0\n",
    "bcount = 0"
   ]
  },
  {
   "cell_type": "markdown",
   "metadata": {},
   "source": [
    "    InitializeBoard sets up the Board in the starting state."
   ]
  },
  {
   "cell_type": "code",
   "execution_count": 3,
   "metadata": {},
   "outputs": [
    {
     "name": "stdout",
     "output_type": "stream",
     "text": [
      "\n",
      ". w . w . w . w \n",
      "w . w . w . w . \n",
      ". w . w . w . w \n",
      ". . . . . . . . \n",
      ". . . . . . . . \n",
      "b . b . b . b . \n",
      ". b . b . b . b \n",
      "b . b . b . b . \n",
      "\n"
     ]
    }
   ],
   "source": [
    "\n",
    "def initializeBoard():\n",
    "    global   n_pieces , n_white_kings , n_white_pawns , n_black_kings , n_black_pawns , n_rows , n_columns\n",
    "    board[:] = ''\n",
    "    for i in range(1,4):\n",
    "        for j in range(1,n_columns+1):\n",
    "            if((i+j)&1):\n",
    "                board[i][j] = 'w'\n",
    "            else :\n",
    "                board[i][j] = ''\n",
    "\n",
    "    for i in range(6,n_rows+1):\n",
    "        for j in range(1,n_columns+1):\n",
    "            if((i+j)&1):\n",
    "                board[i][j] = 'b'\n",
    "            else :\n",
    "                board[i][j] = ''\n",
    "    n_pieces = 24\n",
    "    n_white_pawns = 12\n",
    "    n_white_kings = 0\n",
    "    n_black_pawns = 12\n",
    "    n_black_kings = 0\n",
    "    return \n",
    "\n",
    "def printBoard(board):\n",
    "    print()\n",
    "    for i in range(1,9):\n",
    "        for j in range(1,9):\n",
    "            if(board[i][j] == ''):\n",
    "                print(\".\", end = \" \")\n",
    "            else:\n",
    "                print(board[i][j].decode('utf-8')  , end=\" \")\n",
    "        print()\n",
    "    print()\n",
    "initializeBoard()\n",
    "printBoard(board)"
   ]
  },
  {
   "cell_type": "markdown",
   "metadata": {},
   "source": [
    "    These are helper functions whose functions are very much obvious from their names. \n",
    "    Many helper functions are defined in this project for Better Readability of the code."
   ]
  },
  {
   "cell_type": "code",
   "execution_count": 4,
   "metadata": {},
   "outputs": [],
   "source": [
    "\n",
    "\n",
    "def isEmptyCell(x,y , board): # unoccupied cell\n",
    "    return (board[x][y] == '')\n",
    "\n",
    "def containsEnemyPiece(x,y,colorToMove, board):\n",
    "    if(isEmptyCell(x,y, board)):\n",
    "        return False\n",
    "    pieceColor = board[x][y].decode('utf-8')\n",
    "    return (pieceColor.lower() != colorToMove.lower())\n",
    "\n",
    "def validCell(x,y): # A valid cell lies on the board \n",
    "    global n_rows , n_columns\n",
    "    return (x>=1 and x<=n_rows and y>=1 and y<=n_columns )"
   ]
  },
  {
   "cell_type": "code",
   "execution_count": 5,
   "metadata": {},
   "outputs": [],
   "source": [
    "def canBeCaptured(x1 ,y1 , x2 , y2 ,board): # Can we move from (x1,y1 ) to capture on (x2,y2) ?    \n",
    "    color_from = board[x1][y1].decode('utf-8')\n",
    "    if(board[x2][y2] == ''):\n",
    "        return False\n",
    "    if(board[x2][y2] != ''):\n",
    "        color_between = board[x2][y2].decode('utf-8')\n",
    "        if(color_from.lower() == color_between.lower()): # Same colored pieces cant be captured\n",
    "            return False\n",
    "        dx = x2-x1\n",
    "        dy = y2-y1\n",
    "        x3 = x2 + dx\n",
    "        y3 = y2 + dy\n",
    "        if(validCell(x3,y3) == False or isEmptyCell(x3,y3,board) == False): # if after capturing, you land on a cell which is invalid then return False\n",
    "            return False\n",
    "    \n",
    "    return True # if none of the above satisfy then it can be captured\n",
    "\n"
   ]
  },
  {
   "cell_type": "markdown",
   "metadata": {},
   "source": [
    "    getMoves():  is used to get a list of all possible moves a player can make ."
   ]
  },
  {
   "cell_type": "code",
   "execution_count": 6,
   "metadata": {},
   "outputs": [],
   "source": [
    "#Returns a dictionary of moves where moves[i] contains all the valid destinations from each coordinate i . \n",
    "#Also i of of the form (x_from , y_from)\n",
    "def getMoves(colorToMove):\n",
    "    moves = {}\n",
    "    for x in range(1,9):\n",
    "        for y in range(1,9):\n",
    "            if((x+y)&1 and board[x][y] != ''):\n",
    "                pieceColor = board[x][y].decode('utf-8')\n",
    "                if(pieceColor.lower() == colorToMove.lower()):\n",
    "                    dx = deltaX[pieceColor]\n",
    "                    dy = deltaY[pieceColor]\n",
    "                    n_validMoves = len(dx)\n",
    "                    curr_moves = []\n",
    "                    for k in range(0,n_validMoves):\n",
    "                        x1 = x + dx[k]\n",
    "                        y1 = y + dy[k]\n",
    "                        if(validCell(x1,y1) == True ):\n",
    "                            if(isEmptyCell(x1,y1,board) == True):\n",
    "                                curr_moves.append((x1,y1))\n",
    "                            elif(canBeCaptured(x,y,x1,y1,board) == True): # Can (x1,y1) be captured ?\n",
    "                                x2 = x1 + (x1-x)\n",
    "                                y2 = y1 + (y1-y)\n",
    "                                curr_moves.append((x2,y2))\n",
    "                    \n",
    "                    if(len(curr_moves) != 0 ):\n",
    "                        moves[(x,y)] = curr_moves\n",
    "                    \n",
    "    return moves \n",
    "\n"
   ]
  },
  {
   "cell_type": "markdown",
   "metadata": {},
   "source": [
    "    currentGameState(): constantly checks the board to see if it resulted in a victoty or a loss or the game   is still going on"
   ]
  },
  {
   "cell_type": "code",
   "execution_count": 7,
   "metadata": {},
   "outputs": [],
   "source": [
    "def noLegalMoves(colorToMove): # returns True if there are no legal moves for the colorToMove\n",
    "    \n",
    "    moves = getMoves(colorToMove)\n",
    "    \n",
    "    if(len(moves) == 0 ):\n",
    "        return 1\n",
    "    return 0;\n",
    "    \n",
    "def currentGameState(colorToMove): # returns the winner of the game if game is not Ongoing\n",
    "    global n_black_kings , n_black_pawns , n_white_kings , n_white_pawns\n",
    "   \n",
    "    if(colorToMove == 'b'):\n",
    "        if(n_black_pawns + n_black_kings == 0 or noLegalMoves('b') == True):\n",
    "            return \"White\"\n",
    "    \n",
    "    else :\n",
    "        if(n_white_pawns + n_white_kings == 0 or noLegalMoves('w') == True):\n",
    "            return \"Black\"\n",
    "    return \"Ongoing\""
   ]
  },
  {
   "cell_type": "markdown",
   "metadata": {},
   "source": [
    "    getRandomMove(): returns a random move from the set of moves"
   ]
  },
  {
   "cell_type": "code",
   "execution_count": 8,
   "metadata": {},
   "outputs": [],
   "source": [
    "def switchTurn(currentPlayer):\n",
    "    if(currentPlayer.lower() == 'b'):\n",
    "        return 'w'\n",
    "    return 'b'\n",
    "\n",
    "\n",
    "\n",
    "def getTotalNumberOfMoves(moves):\n",
    "    res = 0\n",
    "    for i in moves:\n",
    "        res += len(moves[i])\n",
    "    return res\n",
    "\n",
    "def getRandomMove(colorToMove):\n",
    "    \n",
    "    randomMove = []\n",
    "    moves = getMoves( colorToMove)\n",
    "    totalMoves = getTotalNumberOfMoves(moves)\n",
    "    if(totalMoves == 0): #\n",
    "        return randomMove\n",
    "    #print(\"Total moves under consideration \" , totalMoves)\n",
    "    move_to_pick = random.randint(0,totalMoves-1) #picking a random move \n",
    "    #print(\"picked index is \",move_to_pick)\n",
    "    \n",
    "    count = 0\n",
    "    for i in moves:\n",
    "        for j in moves[i]:\n",
    "            if(count == move_to_pick):\n",
    "                randomMove.append(i)\n",
    "                randomMove.append(j)\n",
    "            count += 1\n",
    "    #print(\"random move given is \" , randomMove)\n",
    "    return randomMove\n",
    "    "
   ]
  },
  {
   "cell_type": "markdown",
   "metadata": {},
   "source": [
    "getThreatenedCount(): returns the count of black and white pieces that can be captured for a given Board                         Configuration "
   ]
  },
  {
   "cell_type": "code",
   "execution_count": 9,
   "metadata": {},
   "outputs": [],
   "source": [
    "def isACaptureMove(move):\n",
    "    return (abs(move[0][0] - move[1][0]) == 2)\n",
    "\n",
    "def isACaptureMove(x_from , y_from  , x_to , y_to):\n",
    "    return (abs(x_from - x_to) == 2)\n",
    "\n",
    "def getThreatenedCount(board): #returns count of black and white pieces threatened for a given board configuration\n",
    "    res = {'b' : 0 , 'w' : 0}\n",
    "    colors = ['b' , 'w']\n",
    "    for color in colors:\n",
    "        for x in range(1,9):\n",
    "            for y in range(1,9):\n",
    "                if((x+y)&1 and board[x][y] != '' and (board[x][y].decode('utf-8')).lower() == color):\n",
    "                    pieceColor = board[x][y].decode('utf-8') # could be pawn or a king of same color as color\n",
    "                    dx = deltaX[pieceColor]\n",
    "                    dy = deltaY[pieceColor]\n",
    "                    n_moves = len(dx)\n",
    "                    for i in range(0,n_moves):\n",
    "                        x1 = x + dx[i]\n",
    "                        y1 = y + dy[i]\n",
    "                        if(validCell(x1,y1) and containsEnemyPiece(x1,y1,color, board) and canBeCaptured(x,y,x1,y1,board)):\n",
    "                            if(color == 'b'):\n",
    "                                res['w'] += 1\n",
    "                            else:\n",
    "                                res['b'] += 1\n",
    "\n",
    "    return res\n"
   ]
  },
  {
   "cell_type": "markdown",
   "metadata": {},
   "source": [
    "    getStateVectorAfterMove(): This is the single most important function in the process. It assigns a value                              to  each move based on the Board configuration that move leads to. It returns the                               State Vector which contains the values of all the 6 Features for a given move."
   ]
  },
  {
   "cell_type": "code",
   "execution_count": 10,
   "metadata": {},
   "outputs": [],
   "source": [
    "def getStateVectorAfterMove(move ):\n",
    "    stateVector = [1]\n",
    "    \n",
    "    #print(\"get state vector of move \",move)\n",
    "    x_from = move[0][0]\n",
    "    y_from = move[0][1]\n",
    "    x_to = move[1][0]\n",
    "    y_to = move[1][1]\n",
    "    \n",
    "    color_from = 'b'\n",
    "    \n",
    "    \n",
    "    global n_white_pawns , n_white_kings , n_black_kings , n_black_pawns , n_black_threatened , n_white_threatened\n",
    "    \n",
    "    n_curr_white_pawns = n_white_pawns\n",
    "    n_curr_white_kings = n_white_kings\n",
    "    n_curr_black_pawns = n_black_pawns\n",
    "    n_curr_black_kings = n_black_kings\n",
    "    n_curr_black_threatened = n_black_threatened\n",
    "    n_curr_white_threatened = n_white_threatened\n",
    "    \n",
    "    new_board = copy.deepcopy(board)\n",
    "    \n",
    "    if(isACaptureMove(x_from , y_from  , x_to , y_to) == True): \n",
    "        #captured piece was in between these two coordinates\n",
    "        #print(\"Analysing a capture move\")\n",
    "        x_between = int(x_from + (x_to-x_from)/2)\n",
    "        y_between = int(y_from + (y_to - y_from)/2)\n",
    "        if(board[x_between][y_between] != ''):\n",
    "            \n",
    "            color_between = board[x_between][y_between].decode('utf-8')\n",
    "            if(color_between == color_between.lower()): #pawn captured\n",
    "                if(color_between.lower() == 'w'):\n",
    "                    n_curr_white_pawns-=1\n",
    "                else:\n",
    "                    n_curr_black_pawns-=1\n",
    "            else: #king captured\n",
    "                if(color_between.lower() == 'w'):\n",
    "                    n_curr_white_kings-=1\n",
    "                else:\n",
    "                    n_curr_black_kings-=1\n",
    "        \n",
    "        #now we play the move on board to get new board\n",
    "        new_board[x_between][y_between] = ''\n",
    "        new_board[x_from][y_from] = ''\n",
    "        new_board[x_to][y_to] = color_from\n",
    "        \n",
    "    else :\n",
    "        #now we actually move the piece to get a new board config\n",
    "        new_board[x_from][y_from] = ''\n",
    "        new_board[x_to][y_from] = color_from  #this may create some issue (str to unciode issue maybe)\n",
    "        \n",
    "    if(color_from == 'b'):\n",
    "        if(x_to == 1): #Black pawn promotes to a King\n",
    "            n_curr_black_pawns -= 1\n",
    "            n_curr_black_kings += 1\n",
    "            new_board[x_to][y_to] = 'B'\n",
    "                \n",
    "    elif(color_from == 'w'):#white pawn promotes to a king\n",
    "        if(x_to == 8):\n",
    "            new_board[x_to][y_to] = 'W'\n",
    "            n_curr_white_pawns -= 1\n",
    "            n_curr_white_kings += 1    \n",
    "        \n",
    "    threatenedMap = getThreatenedCount(new_board)\n",
    "    n_curr_black_threatened = threatenedMap['b']\n",
    "    n_curr_white_threatened = threatenedMap['w']\n",
    "            \n",
    "    stateVector.append(n_curr_white_pawns)\n",
    "    stateVector.append(n_curr_white_kings)\n",
    "    stateVector.append(n_curr_black_pawns)\n",
    "    stateVector.append(n_curr_black_kings)\n",
    "    stateVector.append(n_curr_black_threatened)\n",
    "    stateVector.append(n_curr_white_threatened)\n",
    "    #print(len(stateVector))\n",
    "    return stateVector\n"
   ]
  },
  {
   "cell_type": "markdown",
   "metadata": {},
   "source": [
    "    getTargetValue(move) :  This calculates the value of each move by using value = dot(weight, stateVector)\n",
    "\n",
    "    getMapping(moves): This a mapping of each move to its TargetValue (i.e. the value of dot product of weight                             and StateVector)\n",
    "    processMoves(moves): This just returns moves in a different easy to use format"
   ]
  },
  {
   "cell_type": "code",
   "execution_count": 11,
   "metadata": {},
   "outputs": [],
   "source": [
    "def getTargetValue(move):\n",
    "    X = getStateVectorAfterMove(move)\n",
    "    res = np.dot(weight , X)\n",
    "    return (res)\n",
    "\n",
    "def getMapping(moves): #takes in the moves array which has been processed\n",
    "    mapping = {}\n",
    "    for i in range(0, len(moves)):\n",
    "        targetValue = getTargetValue(moves[i])\n",
    "        mapping[i] = targetValue\n",
    "    return mapping\n",
    "\n",
    "def processMoves(moves): # returns a list of moves where each moves[i] = [(x_from , y_from) , (x_to , y_to)]\n",
    "    #Basically converts moves into a simple array of moves\n",
    "    moves_prime = []\n",
    "    index = 0\n",
    "    for i in moves:\n",
    "        for j in moves[i]:\n",
    "            currMove = []\n",
    "            currMove.append(i)\n",
    "            currMove.append(j)\n",
    "            moves_prime.append(currMove)\n",
    "    return moves_prime\n"
   ]
  },
  {
   "cell_type": "markdown",
   "metadata": {},
   "source": [
    "    getBestMove(color) : returns the move with the highest targetValue on the basis of our Machine Learning                          algo"
   ]
  },
  {
   "cell_type": "code",
   "execution_count": 12,
   "metadata": {},
   "outputs": [],
   "source": [
    "def getBestMove(colorToMove): #returns [(x1,y1) , [x2,y2]] where piece on x1,y1 goes to x2,y2\n",
    "    \n",
    "    if(colorToMove == 'w'): # computer plays as White and picks a random move from the set of possible moves\n",
    "        res = getRandomMove(colorToMove)\n",
    "        moveList.append(res)\n",
    "        return res\n",
    "    \n",
    "    # We make the black player's move\n",
    "    \n",
    "    moves = getMoves(colorToMove)\n",
    "    \n",
    "    moves_prime = processMoves(moves)\n",
    "    \n",
    "    move_to_target_value_mapping = getMapping(moves_prime)\n",
    "    \n",
    "    bestMoveIndex = max(move_to_target_value_mapping , key = move_to_target_value_mapping.get)\n",
    "    targetValueOfBestMove = move_to_target_value_mapping[bestMoveIndex]\n",
    "    \n",
    "    bestMove = moves_prime[bestMoveIndex]\n",
    "    \n",
    "    # Both X and targetValue are required for weight update\n",
    "    X[len(targetValue)] = getStateVectorAfterMove(bestMove)  \n",
    "    targetValue.append(targetValueOfBestMove)\n",
    "    moveList.append(bestMove)\n",
    "    \n",
    "    return bestMove\n",
    "    \n",
    "    \n",
    "    "
   ]
  },
  {
   "cell_type": "markdown",
   "metadata": {},
   "source": [
    "    playGivenMove(move): So after we get the best move for a player, we need to play it on the board . This       function helps us to do so. It also updates the global variables, thus keeping board up-to-date.            "
   ]
  },
  {
   "cell_type": "code",
   "execution_count": 13,
   "metadata": {},
   "outputs": [],
   "source": [
    "def playGivenMove(move):\n",
    "    x_from = move[0][0]\n",
    "    y_from = move[0][1]\n",
    "    x_to = move[1][0]\n",
    "    y_to = move[1][1]\n",
    "    \n",
    "    color_from = board[x_from][y_from].decode('utf-8')\n",
    "    global n_white_pawns , n_white_kings , n_black_kings , n_black_pawns , n_black_threatened , n_white_threatened\n",
    "    \n",
    "    \n",
    "    if(isACaptureMove(x_from , y_from  , x_to , y_to)): \n",
    "        #captured piece was in between the above two coordinates\n",
    "        x_between = int(x_from + (x_to-x_from)/2)\n",
    "        y_between = int(y_from + (y_to - y_from)/2)\n",
    "        color_between = board[x_between][y_between].decode('utf-8')\n",
    "        if(color_between == color_between.lower()): #pawn captured\n",
    "            if(color_between.lower() == 'w'):\n",
    "                n_white_pawns-=1\n",
    "            else:\n",
    "                n_black_pawns-=1\n",
    "        else: #king captured\n",
    "            if(color_between.lower() == 'w'):\n",
    "                n_white_kings-=1\n",
    "            else:\n",
    "                n_black_kings-=1\n",
    "        \n",
    "        #now we play the move on board to get new board\n",
    "        board[x_between][y_between] = ''\n",
    "        board[x_from][y_from] = ''\n",
    "        board[x_to][y_to] = color_from\n",
    "        \n",
    "        \n",
    "    else :\n",
    "        #now we actually move the piece to get a new board config\n",
    "        board[x_from][y_from] = ''\n",
    "        board[x_to][y_to] = color_from  #this may create some issue (str to unciode issue maybe)\n",
    "    \n",
    "    if(color_from == 'b'):\n",
    "        if(x_to == 1): #Black pawn promotes to a King\n",
    "            n_black_pawns -= 1\n",
    "            n_black_kings += 1\n",
    "            board[x_to][y_to] = 'B'\n",
    "                \n",
    "    elif(color_from == 'w'):#white pawn promotes to a king\n",
    "        if(x_to == 8):\n",
    "            board[x_to][y_to] = 'W'\n",
    "            n_white_pawns -= 1\n",
    "            n_white_kings += 1\n",
    "    \n",
    "    threatenedMap = getThreatenedCount(board)\n",
    "    n_black_threatened = threatenedMap['b']\n",
    "    n_white_threatened = threatenedMap['w']\n",
    "    \n",
    "    return \n",
    "    \n",
    "    "
   ]
  },
  {
   "cell_type": "markdown",
   "metadata": {},
   "source": [
    "    updateWeights(): This is the back-propagation part. Here we update the weight using LMS rule. \n",
    "    \n",
    "    delta_weight = (targetValue[next-best-Move] - targetValue[current-Move]) * (leanringRate)  *                                     (winningFactor) * (stateVector[cur-move])\n",
    "    Winning factor : This is used because we dont want to change weights that much if we end up winning .\n",
    "               \n",
    "        "
   ]
  },
  {
   "cell_type": "code",
   "execution_count": 14,
   "metadata": {},
   "outputs": [],
   "source": [
    "def updateWeights():\n",
    "    global weight\n",
    "    n_moves = len(targetValue)  #number of moves made by black during the game\n",
    "    winner = currentGameState(board)\n",
    "    winner_factor = 0\n",
    "    if(winner == 'b'):\n",
    "        winner_factor = 0.5\n",
    "    else:\n",
    "        winner_factor = 1\n",
    "    \n",
    "    for i in range(0,n_moves-1):\n",
    "        delta = targetValue[i+1] - targetValue[i]\n",
    "        X = getStateVectorAfterMove(moveList[i])\n",
    "        for j in range(1,7):\n",
    "            weight[j] += learningRate * delta * X[j] * winner_factor\n",
    "    \n",
    "    return\n",
    "    "
   ]
  },
  {
   "cell_type": "markdown",
   "metadata": {},
   "source": [
    "    simulateGame(): This is used to play a complete game"
   ]
  },
  {
   "cell_type": "code",
   "execution_count": 15,
   "metadata": {},
   "outputs": [],
   "source": [
    "\n",
    "\n",
    "def simulateGame():\n",
    "    targetValue.clear()\n",
    "    moveList.clear()\n",
    "    board[:] = ''\n",
    "    initializeBoard()\n",
    "    \n",
    "    global wcount ,bcount\n",
    "    currentPlayer = 'b'\n",
    "    while(currentGameState(currentPlayer) == \"Ongoing\"):\n",
    "        bestMove = getBestMove(currentPlayer)\n",
    "        playGivenMove(bestMove)\n",
    "        currentPlayer = switchTurn(currentPlayer)\n",
    "    \n",
    "    \n",
    "    global winner\n",
    "    if(currentPlayer == 'b'):\n",
    "        winner = \"White\"\n",
    "    else:\n",
    "        winner = \"Black\"\n",
    "        \n",
    "    if(winner == 'White'):\n",
    "        wcount += 1\n",
    "    else :\n",
    "        bcount += 1\n",
    "        \n",
    "    print(winner , \" won in \" , len(targetValue) , \" moves\")\n",
    "   \n",
    "    "
   ]
  },
  {
   "cell_type": "markdown",
   "metadata": {},
   "source": [
    "    Train() : To train the model for given epochs and learning rate"
   ]
  },
  {
   "cell_type": "code",
   "execution_count": 16,
   "metadata": {},
   "outputs": [],
   "source": [
    "def train(learningRate , epochs):\n",
    "    print(\"MODEL TRAINING BEGINS :\")\n",
    "    print()\n",
    "    print(\"Weights before training : \" ,weight)\n",
    "    print()\n",
    "    global wcount , bcount\n",
    "    wcount = 0\n",
    "    bcount = 0\n",
    "    for i in range(0,epochs):\n",
    "        simulateGame()\n",
    "        updateWeights()\n",
    "    \n",
    "    print()\n",
    "    print(\"MODEL TRAINING ENDS \")"
   ]
  },
  {
   "cell_type": "code",
   "execution_count": 31,
   "metadata": {},
   "outputs": [
    {
     "name": "stdout",
     "output_type": "stream",
     "text": [
      "MODEL TRAINING BEGINS :\n",
      "\n",
      "Weights before training :  [   0.19319867  -14.36404423   41.76201469   32.97992508 -131.99276637\n",
      "    3.09798955    1.38345998]\n",
      "\n",
      "Black  won in  117  moves\n",
      "White  won in  207  moves\n",
      "Black  won in  22  moves\n",
      "White  won in  211  moves\n",
      "Black  won in  260  moves\n",
      "Black  won in  186  moves\n",
      "Black  won in  88  moves\n",
      "Black  won in  169  moves\n",
      "Black  won in  94  moves\n",
      "Black  won in  231  moves\n",
      "\n",
      "MODEL TRAINING ENDS \n",
      "Weights after training :  [ 1.93198673e-01 -5.39747797e+00 -5.64180234e+01  7.39104826e+00\n",
      " -4.78103964e+02  3.14191705e+00  1.49327207e+00]\n"
     ]
    }
   ],
   "source": [
    "learningRate = 0.05\n",
    "epochs = 10\n",
    "train(learningRate , epochs)\n",
    "print(\"Weights after training : \" ,weight)"
   ]
  },
  {
   "cell_type": "code",
   "execution_count": 26,
   "metadata": {},
   "outputs": [],
   "source": [
    "def test(weight , n_total_games):\n",
    "    count = 0;\n",
    "    for i in range(n_total_games):\n",
    "        print(\"Game \" , i+1,\" :\" ,end = \" \")\n",
    "        simulateGame()\n",
    "        if(winner == 'Black'):\n",
    "            count += 1\n",
    "    print(\"Games won by us (Black) : \" , count)\n",
    "    print(\"Total games played \", n_total_games)\n",
    "    print(\"Accuracy \", (count/n_total_games)*100 , \" %\")"
   ]
  },
  {
   "cell_type": "markdown",
   "metadata": {},
   "source": [
    "    Now we Test By playing as Black against the Computer(which choses random moves) . We play 10 games , \n",
    "    and lets see how much we win!"
   ]
  },
  {
   "cell_type": "code",
   "execution_count": 32,
   "metadata": {
    "scrolled": false
   },
   "outputs": [
    {
     "name": "stdout",
     "output_type": "stream",
     "text": [
      "Game  1  : Black  won in  77  moves\n",
      "Game  2  : Black  won in  110  moves\n",
      "Game  3  : Black  won in  29  moves\n",
      "Game  4  : Black  won in  47  moves\n",
      "Game  5  : White  won in  81  moves\n",
      "Game  6  : Black  won in  71  moves\n",
      "Game  7  : Black  won in  49  moves\n",
      "Game  8  : White  won in  223  moves\n",
      "Game  9  : Black  won in  33  moves\n",
      "Game  10  : Black  won in  132  moves\n",
      "Game  11  : Black  won in  26  moves\n",
      "Game  12  : Black  won in  94  moves\n",
      "Game  13  : Black  won in  57  moves\n",
      "Game  14  : Black  won in  196  moves\n",
      "Game  15  : White  won in  220  moves\n",
      "Game  16  : Black  won in  116  moves\n",
      "Game  17  : Black  won in  240  moves\n",
      "Game  18  : Black  won in  30  moves\n",
      "Game  19  : Black  won in  74  moves\n",
      "Game  20  : White  won in  98  moves\n",
      "Games won by us (Black) :  16\n",
      "Total games played  20\n",
      "Accuracy  80.0  %\n"
     ]
    }
   ],
   "source": [
    "test(weight , 20)"
   ]
  },
  {
   "cell_type": "markdown",
   "metadata": {},
   "source": [
    "    So, finally after testing, we found out that we won 80% of our games."
   ]
  }
 ],
 "metadata": {
  "kernelspec": {
   "display_name": "Python 3",
   "language": "python",
   "name": "python3"
  },
  "language_info": {
   "codemirror_mode": {
    "name": "ipython",
    "version": 3
   },
   "file_extension": ".py",
   "mimetype": "text/x-python",
   "name": "python",
   "nbconvert_exporter": "python",
   "pygments_lexer": "ipython3",
   "version": "3.7.9"
  }
 },
 "nbformat": 4,
 "nbformat_minor": 4
}
